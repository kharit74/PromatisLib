{
 "cells": [
  {
   "cell_type": "code",
   "execution_count": 2,
   "metadata": {},
   "outputs": [],
   "source": [
    "import cv2\n",
    "from ultralytics import YOLO\n",
    "from patched_yolo_infer import (\n",
    "    visualize_results_usual_yolo_inference\n",
    ")\n",
    "\n",
    "cam = cv2.VideoCapture(0)\n",
    "# Подключаемся к камере\n",
    "if not cam.isOpened():\n",
    "    print(\"Не удалось открыть камеру\")\n"
   ]
  },
  {
   "cell_type": "code",
   "execution_count": 3,
   "metadata": {},
   "outputs": [],
   "source": [
    "imgsz = 640\n",
    "conf = 0.25\n",
    "iou = 0.7\n",
    "\n",
    "# Загружаем модель YOLO\n",
    "\n",
    "model = YOLO(\"yolo11s.pt\")"
   ]
  },
  {
   "cell_type": "code",
   "execution_count": 4,
   "metadata": {},
   "outputs": [],
   "source": [
    "while True:\n",
    "# Захват кадра\n",
    "    ret, frame = cam.read()\n",
    "    if not ret:\n",
    "        print(\"Кадр не получен\")\n",
    "        break\n",
    "\n",
    "    # Прогоняем через модель\n",
    "    frame = visualize_results_usual_yolo_inference(\n",
    "        img=frame,\n",
    "        model=model,\n",
    "        conf=conf,\n",
    "        iou=iou,\n",
    "        segment=True,\n",
    "        delta_colors=3,\n",
    "        thickness=3,\n",
    "        font_scale=1.5,\n",
    "        show_boxes=True,\n",
    "        fill_mask=False,\n",
    "        alpha=0.35,\n",
    "        show_confidences=True,\n",
    "        return_image_array=True,\n",
    "    )\n",
    "\n",
    "    cv2.imshow(\"frame\", frame)\n",
    "\n",
    "    if cv2.waitKey(1) & 0xFF == ord('q'):\n",
    "        break\n",
    "\n",
    "# Освобождение ресурсов\n",
    "cam.release()\n",
    "cv2.destroyAllWindows()"
   ]
  },
  {
   "cell_type": "code",
   "execution_count": null,
   "metadata": {},
   "outputs": [],
   "source": []
  }
 ],
 "metadata": {
  "kernelspec": {
   "display_name": "Python 3",
   "language": "python",
   "name": "python3"
  },
  "language_info": {
   "codemirror_mode": {
    "name": "ipython",
    "version": 3
   },
   "file_extension": ".py",
   "mimetype": "text/x-python",
   "name": "python",
   "nbconvert_exporter": "python",
   "pygments_lexer": "ipython3",
   "version": "3.11.9"
  }
 },
 "nbformat": 4,
 "nbformat_minor": 2
}
