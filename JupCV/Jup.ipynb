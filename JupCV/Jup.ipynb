{
 "cells": [
  {
   "cell_type": "code",
   "execution_count": 17,
   "metadata": {},
   "outputs": [],
   "source": [
    "import cv2\n",
    "from ultralytics import YOLO\n",
    "from patched_yolo_infer import (\n",
    "    visualize_results_usual_yolo_inference\n",
    ")\n",
    "\n",
    "cam = cv2.VideoCapture(0)\n",
    "# Подключаемся к камере\n",
    "if not cam.isOpened():\n",
    "    print(\"Не удалось открыть камеру\")\n"
   ]
  },
  {
   "cell_type": "code",
   "execution_count": 18,
   "metadata": {},
   "outputs": [
    {
     "name": "stdout",
     "output_type": "stream",
     "text": [
      "Downloading https://github.com/ultralytics/assets/releases/download/v8.3.0/yolo11s.pt to 'yolo11s.pt'...\n"
     ]
    },
    {
     "name": "stderr",
     "output_type": "stream",
     "text": [
      "100%|██████████| 18.4M/18.4M [00:06<00:00, 2.93MB/s]\n"
     ]
    }
   ],
   "source": [
    "imgsz = 640\n",
    "conf = 0.25\n",
    "iou = 0.7\n",
    "\n",
    "# Загружаем модель YOLO\n",
    "\n",
    "model = YOLO(\"yolo11s.pt\")"
   ]
  },
  {
   "cell_type": "code",
   "execution_count": 19,
   "metadata": {},
   "outputs": [],
   "source": [
    "\n",
    "\n",
    "while True:\n",
    "# Захват кадра\n",
    "    ret, frame = cam.read()\n",
    "    if not ret:\n",
    "        print(\"Кадр не получен\")\n",
    "        break\n",
    "\n",
    "    # Прогоняем через модель\n",
    "    frame = visualize_results_usual_yolo_inference(\n",
    "        img=frame,\n",
    "        model=model,\n",
    "        conf=conf,\n",
    "        iou=iou,\n",
    "        segment=True,\n",
    "        delta_colors=3,\n",
    "        thickness=3,\n",
    "        font_scale=1.5,\n",
    "        show_boxes=True,\n",
    "        fill_mask=False,\n",
    "        alpha=0.35,\n",
    "        show_confidences=True,\n",
    "        return_image_array=True,\n",
    "    )\n",
    "\n",
    "    cv2.imshow(\"frame\", frame)\n",
    "\n",
    "    if cv2.waitKey(1) & 0xFF == ord('q'):\n",
    "        break\n",
    "\n",
    "# Освобождение ресурсов\n",
    "cam.release()\n",
    "cv2.destroyAllWindows()"
   ]
  },
  {
   "cell_type": "code",
   "execution_count": null,
   "metadata": {},
   "outputs": [
    {
     "name": "stdout",
     "output_type": "stream",
     "text": [
      "Requirement already satisfied: patched-yolo-infer in c:\\users\\khari\\appdata\\local\\programs\\python\\python311\\lib\\site-packages (1.3.8)\n",
      "Requirement already satisfied: numpy<2.0 in c:\\users\\khari\\appdata\\local\\programs\\python\\python311\\lib\\site-packages (from patched-yolo-infer) (1.26.4)\n",
      "Requirement already satisfied: tqdm in c:\\users\\khari\\appdata\\local\\programs\\python\\python311\\lib\\site-packages (from patched-yolo-infer) (4.67.1)\n",
      "Requirement already satisfied: opencv-python in c:\\users\\khari\\appdata\\local\\programs\\python\\python311\\lib\\site-packages (from patched-yolo-infer) (4.11.0.86)\n",
      "Requirement already satisfied: matplotlib in c:\\users\\khari\\appdata\\local\\programs\\python\\python311\\lib\\site-packages (from patched-yolo-infer) (3.10.1)\n",
      "Requirement already satisfied: ultralytics in c:\\users\\khari\\appdata\\local\\programs\\python\\python311\\lib\\site-packages (from patched-yolo-infer) (8.3.82)\n",
      "Requirement already satisfied: contourpy>=1.0.1 in c:\\users\\khari\\appdata\\local\\programs\\python\\python311\\lib\\site-packages (from matplotlib->patched-yolo-infer) (1.3.1)\n",
      "Requirement already satisfied: cycler>=0.10 in c:\\users\\khari\\appdata\\local\\programs\\python\\python311\\lib\\site-packages (from matplotlib->patched-yolo-infer) (0.12.1)\n",
      "Requirement already satisfied: fonttools>=4.22.0 in c:\\users\\khari\\appdata\\local\\programs\\python\\python311\\lib\\site-packages (from matplotlib->patched-yolo-infer) (4.56.0)\n",
      "Requirement already satisfied: kiwisolver>=1.3.1 in c:\\users\\khari\\appdata\\local\\programs\\python\\python311\\lib\\site-packages (from matplotlib->patched-yolo-infer) (1.4.8)\n",
      "Requirement already satisfied: packaging>=20.0 in c:\\users\\khari\\appdata\\roaming\\python\\python311\\site-packages (from matplotlib->patched-yolo-infer) (24.2)\n",
      "Requirement already satisfied: pillow>=8 in c:\\users\\khari\\appdata\\local\\programs\\python\\python311\\lib\\site-packages (from matplotlib->patched-yolo-infer) (11.1.0)\n",
      "Requirement already satisfied: pyparsing>=2.3.1 in c:\\users\\khari\\appdata\\local\\programs\\python\\python311\\lib\\site-packages (from matplotlib->patched-yolo-infer) (3.2.1)\n",
      "Requirement already satisfied: python-dateutil>=2.7 in c:\\users\\khari\\appdata\\roaming\\python\\python311\\site-packages (from matplotlib->patched-yolo-infer) (2.9.0.post0)\n",
      "Requirement already satisfied: colorama in c:\\users\\khari\\appdata\\roaming\\python\\python311\\site-packages (from tqdm->patched-yolo-infer) (0.4.6)\n",
      "Requirement already satisfied: pyyaml>=5.3.1 in c:\\users\\khari\\appdata\\local\\programs\\python\\python311\\lib\\site-packages (from ultralytics->patched-yolo-infer) (6.0.2)\n",
      "Requirement already satisfied: requests>=2.23.0 in c:\\users\\khari\\appdata\\local\\programs\\python\\python311\\lib\\site-packages (from ultralytics->patched-yolo-infer) (2.32.3)\n",
      "Requirement already satisfied: scipy>=1.4.1 in c:\\users\\khari\\appdata\\local\\programs\\python\\python311\\lib\\site-packages (from ultralytics->patched-yolo-infer) (1.15.2)\n",
      "Requirement already satisfied: torch>=1.8.0 in c:\\users\\khari\\appdata\\local\\programs\\python\\python311\\lib\\site-packages (from ultralytics->patched-yolo-infer) (2.6.0)\n",
      "Requirement already satisfied: torchvision>=0.9.0 in c:\\users\\khari\\appdata\\local\\programs\\python\\python311\\lib\\site-packages (from ultralytics->patched-yolo-infer) (0.21.0)\n",
      "Requirement already satisfied: psutil in c:\\users\\khari\\appdata\\roaming\\python\\python311\\site-packages (from ultralytics->patched-yolo-infer) (7.0.0)\n",
      "Requirement already satisfied: py-cpuinfo in c:\\users\\khari\\appdata\\local\\programs\\python\\python311\\lib\\site-packages (from ultralytics->patched-yolo-infer) (9.0.0)\n",
      "Requirement already satisfied: pandas>=1.1.4 in c:\\users\\khari\\appdata\\local\\programs\\python\\python311\\lib\\site-packages (from ultralytics->patched-yolo-infer) (2.2.3)\n",
      "Requirement already satisfied: seaborn>=0.11.0 in c:\\users\\khari\\appdata\\local\\programs\\python\\python311\\lib\\site-packages (from ultralytics->patched-yolo-infer) (0.13.2)\n",
      "Requirement already satisfied: ultralytics-thop>=2.0.0 in c:\\users\\khari\\appdata\\local\\programs\\python\\python311\\lib\\site-packages (from ultralytics->patched-yolo-infer) (2.0.14)\n",
      "Requirement already satisfied: pytz>=2020.1 in c:\\users\\khari\\appdata\\local\\programs\\python\\python311\\lib\\site-packages (from pandas>=1.1.4->ultralytics->patched-yolo-infer) (2025.1)\n",
      "Requirement already satisfied: tzdata>=2022.7 in c:\\users\\khari\\appdata\\local\\programs\\python\\python311\\lib\\site-packages (from pandas>=1.1.4->ultralytics->patched-yolo-infer) (2025.1)\n",
      "Requirement already satisfied: six>=1.5 in c:\\users\\khari\\appdata\\roaming\\python\\python311\\site-packages (from python-dateutil>=2.7->matplotlib->patched-yolo-infer) (1.17.0)\n",
      "Requirement already satisfied: charset-normalizer<4,>=2 in c:\\users\\khari\\appdata\\local\\programs\\python\\python311\\lib\\site-packages (from requests>=2.23.0->ultralytics->patched-yolo-infer) (3.4.1)\n",
      "Requirement already satisfied: idna<4,>=2.5 in c:\\users\\khari\\appdata\\local\\programs\\python\\python311\\lib\\site-packages (from requests>=2.23.0->ultralytics->patched-yolo-infer) (3.10)\n",
      "Requirement already satisfied: urllib3<3,>=1.21.1 in c:\\users\\khari\\appdata\\local\\programs\\python\\python311\\lib\\site-packages (from requests>=2.23.0->ultralytics->patched-yolo-infer) (2.3.0)\n",
      "Requirement already satisfied: certifi>=2017.4.17 in c:\\users\\khari\\appdata\\local\\programs\\python\\python311\\lib\\site-packages (from requests>=2.23.0->ultralytics->patched-yolo-infer) (2025.1.31)\n",
      "Requirement already satisfied: filelock in c:\\users\\khari\\appdata\\local\\programs\\python\\python311\\lib\\site-packages (from torch>=1.8.0->ultralytics->patched-yolo-infer) (3.17.0)\n",
      "Requirement already satisfied: typing-extensions>=4.10.0 in c:\\users\\khari\\appdata\\local\\programs\\python\\python311\\lib\\site-packages (from torch>=1.8.0->ultralytics->patched-yolo-infer) (4.12.2)\n",
      "Requirement already satisfied: networkx in c:\\users\\khari\\appdata\\local\\programs\\python\\python311\\lib\\site-packages (from torch>=1.8.0->ultralytics->patched-yolo-infer) (3.4.2)\n",
      "Requirement already satisfied: jinja2 in c:\\users\\khari\\appdata\\local\\programs\\python\\python311\\lib\\site-packages (from torch>=1.8.0->ultralytics->patched-yolo-infer) (3.1.5)\n",
      "Requirement already satisfied: fsspec in c:\\users\\khari\\appdata\\local\\programs\\python\\python311\\lib\\site-packages (from torch>=1.8.0->ultralytics->patched-yolo-infer) (2025.2.0)\n",
      "Requirement already satisfied: sympy==1.13.1 in c:\\users\\khari\\appdata\\local\\programs\\python\\python311\\lib\\site-packages (from torch>=1.8.0->ultralytics->patched-yolo-infer) (1.13.1)\n",
      "Requirement already satisfied: mpmath<1.4,>=1.1.0 in c:\\users\\khari\\appdata\\local\\programs\\python\\python311\\lib\\site-packages (from sympy==1.13.1->torch>=1.8.0->ultralytics->patched-yolo-infer) (1.3.0)\n",
      "Requirement already satisfied: MarkupSafe>=2.0 in c:\\users\\khari\\appdata\\local\\programs\\python\\python311\\lib\\site-packages (from jinja2->torch>=1.8.0->ultralytics->patched-yolo-infer) (3.0.2)\n",
      "Note: you may need to restart the kernel to use updated packages.\n"
     ]
    }
   ],
   "source": []
  }
 ],
 "metadata": {
  "kernelspec": {
   "display_name": "Python 3",
   "language": "python",
   "name": "python3"
  },
  "language_info": {
   "codemirror_mode": {
    "name": "ipython",
    "version": 3
   },
   "file_extension": ".py",
   "mimetype": "text/x-python",
   "name": "python",
   "nbconvert_exporter": "python",
   "pygments_lexer": "ipython3",
   "version": "3.11.9"
  }
 },
 "nbformat": 4,
 "nbformat_minor": 2
}
