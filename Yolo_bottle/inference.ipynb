{
 "cells": [
  {
   "cell_type": "code",
   "execution_count": 9,
   "metadata": {},
   "outputs": [],
   "source": [
    "import cv2\n",
    "from ultralytics import YOLO\n",
    "import random\n",
    "\n",
    "model = YOLO('C:/Users/khari/GitReps/PromatisLib-1/Yolo_bottle/runs/detect/train4/weights/best.pt')\n",
    "cam = cv2.VideoCapture(0)\n",
    "# Подключаемся к камере\n",
    "if not cam.isOpened():\n",
    "    print(\"Не удалось открыть камеру\")\n"
   ]
  },
  {
   "cell_type": "code",
   "execution_count": null,
   "metadata": {},
   "outputs": [
    {
     "name": "stdout",
     "output_type": "stream",
     "text": [
      "YOLO11m summary (fused): 125 layers, 20,031,574 parameters, 0 gradients, 67.7 GFLOPs\n"
     ]
    }
   ],
   "source": [
    "model.fuse()\n",
    "\n",
    "while True:\n",
    "    ret, frame = cam.read()\n",
    "\n",
    "    results = model.track(frame, iou=0.4, conf=0.5, persist=True, imgsz=608, verbose=False, tracker=\"botsort.yaml\")\n",
    "\n",
    "    if results[0].boxes.id != None: # this will ensure that id is not None -> exist tracks\n",
    "        boxes = results[0].boxes.xyxy.cpu().numpy().astype(int)\n",
    "        ids = results[0].boxes.id.cpu().numpy().astype(int)\n",
    "\n",
    "        for box, id in zip(boxes, ids):\n",
    "            # Generate a random color for each object based on its ID\n",
    "            random.seed(int(id))\n",
    "            color = (random.randint(0, 255), random.randint(0, 255), random.randint(0, 255))\n",
    "            \n",
    "            cv2.rectangle(frame, (box[0], box[1]), (box[2], box[3],), color, 2)\n",
    "            cv2.putText(\n",
    "                frame,\n",
    "                f\"Id {id}\",\n",
    "                (box[0], box[1]),\n",
    "                cv2.FONT_HERSHEY_SIMPLEX,\n",
    "                0.5,\n",
    "                (0, 255, 255),\n",
    "                2,\n",
    "            )\n",
    "\n",
    "    cv2.imshow(\"frame\", frame)\n",
    "\n",
    "    if cv2.waitKey(1) & 0xFF == ord('q'):\n",
    "        break\n",
    "\n",
    "# Освобождение ресурсов\n",
    "cam.release()\n",
    "cv2.destroyAllWindows()\n"
   ]
  }
 ],
 "metadata": {
  "kernelspec": {
   "display_name": "Python 3",
   "language": "python",
   "name": "python3"
  },
  "language_info": {
   "codemirror_mode": {
    "name": "ipython",
    "version": 3
   },
   "file_extension": ".py",
   "mimetype": "text/x-python",
   "name": "python",
   "nbconvert_exporter": "python",
   "pygments_lexer": "ipython3",
   "version": "3.11.9"
  }
 },
 "nbformat": 4,
 "nbformat_minor": 2
}
